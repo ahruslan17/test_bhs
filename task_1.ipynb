{
 "cells": [
  {
   "cell_type": "markdown",
   "metadata": {},
   "source": [
    "## Задание 1."
   ]
  },
  {
   "cell_type": "markdown",
   "metadata": {},
   "source": [
    "Дана строка s. Найдите длину самой длинной подстроки без повторяющихся символов. \n",
    "Пример:\n",
    "s = “aabchbad”. Ответ: 5 \n",
    "Альтернативное объяснение:\n",
    "Подстрока - непрерывный срез строки, то есть для строки: “helloeveryone”:\n",
    "\n",
    "1. “hello” - подстрока\n",
    "2. “every” - подстрока\n",
    "3. “helloeveryone” - подстрока\n",
    "4. “helone” (“helloeveryone”) - не подстрока\n",
    "\n",
    "Вам необходимо найти максимальную длину подстроки, внутри которой не будет повторяющихся символов."
   ]
  },
  {
   "cell_type": "markdown",
   "metadata": {},
   "source": [
    "## Решение:"
   ]
  },
  {
   "cell_type": "code",
   "execution_count": 1,
   "metadata": {},
   "outputs": [],
   "source": [
    "import time\n",
    "from functools import wraps\n",
    "import pytest"
   ]
  },
  {
   "cell_type": "code",
   "execution_count": 2,
   "metadata": {},
   "outputs": [],
   "source": [
    "def timing(func):\n",
    "    '''Вычисляет время работы функции''' \n",
    "    @wraps(func)\n",
    "    def wrapper(*args, **kwargs):\n",
    "        start_time = time.time()  \n",
    "        result = func(*args, **kwargs)  \n",
    "        end_time = time.time()\n",
    "        elapsed_time = end_time - start_time  \n",
    "        print(f\"Function {func.__name__} took {elapsed_time:.9f} seconds\")\n",
    "        return result\n",
    "    return wrapper"
   ]
  },
  {
   "cell_type": "code",
   "execution_count": 3,
   "metadata": {},
   "outputs": [],
   "source": [
    "@timing\n",
    "def length_of_longest_substring(s: str) -> int:\n",
    "    if not isinstance(s, str):\n",
    "        raise TypeError('Input must be a string.')\n",
    "\n",
    "    symbol_index_map: dict = {}\n",
    "    max_length: int = 0\n",
    "    start: int = 0\n",
    "    \n",
    "    for end, char in enumerate(s):\n",
    "        if char in symbol_index_map and symbol_index_map[char] >= start:\n",
    "            start = symbol_index_map[char] + 1\n",
    "        symbol_index_map[char] = end\n",
    "        max_length = max(max_length, end - start + 1)\n",
    "    \n",
    "    return max_length\n"
   ]
  },
  {
   "cell_type": "code",
   "execution_count": 4,
   "metadata": {},
   "outputs": [
    {
     "name": "stdout",
     "output_type": "stream",
     "text": [
      "Function length_of_longest_substring took 0.129019260 seconds\n",
      "4\n"
     ]
    }
   ],
   "source": [
    "s = \"aboBa\"*100500\n",
    "print(length_of_longest_substring(s))"
   ]
  },
  {
   "cell_type": "markdown",
   "metadata": {},
   "source": [
    "### Комментарий"
   ]
  },
  {
   "cell_type": "markdown",
   "metadata": {},
   "source": [
    "В задании не указано, как обрабатывать регистры, поэтому в моей реализации символы `А` и `а`, а также любая другая пара строчных и прописных букв считаются разными символами."
   ]
  },
  {
   "cell_type": "markdown",
   "metadata": {},
   "source": [
    "## Объяснение:"
   ]
  },
  {
   "cell_type": "markdown",
   "metadata": {},
   "source": [
    "1. Инициализация: \n",
    "    - `symbol_index_map`  <-- {}. Хэш таблица вида {symbol:index_number} - хранит последний индекс каждого символа\n",
    "    - `max_length` <-- 0. Длина макс. подстроки\n",
    "    - `start` <-- 0. индекс начала подстроки (текущего окна)\n",
    "2. Проходимся по каждому символу char, используя индекс end. Это текущая позиция символа char \n",
    "3. Если символ уже встречался и его индекс находится в текущем окне, значит, что есть повтор, и начало окна нужно сдвинуть на следующую позицию (на следующую после той, которая пока записана в хэш-таблице)\n",
    "4. Обновляем последний индекс текущего символа в хэш таблице\n",
    "5. Считаем максимальную длину подстроки. Обновляем только в том случае, если она больше предыдущей максимальной."
   ]
  },
  {
   "cell_type": "markdown",
   "metadata": {},
   "source": [
    "Изначально я хотел ~~выпендриться и~~ вместо условия \n",
    "- `if char in symbol_index_map and symbol_index_map[char] >= start`:\n",
    "\n",
    "Написать условие \n",
    "- `if symbol_index_map.get(char, -1) >= start`:\n",
    "\n",
    "Но первый вариант в теории быстрее для интерпретатора python, т.к. get() обрабатывает дополнительную логику вовращения значения по умолчанию.\n",
    "По итогу проверил на строке `\"abcabcbb\" * 100` на миллионе итераций, результаты:\n",
    "\n",
    "- Average time for `get` method: 0.0001914035 seconds\n",
    "- Average time for `in` method: 0.0001909332 seconds"
   ]
  },
  {
   "cell_type": "markdown",
   "metadata": {},
   "source": [
    "## Сложность"
   ]
  },
  {
   "cell_type": "markdown",
   "metadata": {},
   "source": [
    "- Алгоритмическая сложность по памяти `O(n)`, n - длина строки. Так как проходимся по каждому элементу 1 раз.\n",
    "- По памяти в худшем случае `O(n)` - если размер словаря будет равен длине строки (то есть все символы в строке уникальные). В лучшем случае `O(m)` - где m - количество уникальных символов в строке. Основным фактором явяляется словарь, константами О(1) можно принебречь."
   ]
  },
  {
   "cell_type": "markdown",
   "metadata": {},
   "source": [
    "## Тесты"
   ]
  },
  {
   "cell_type": "markdown",
   "metadata": {},
   "source": [
    "1. `Пустая строка.` Базовый краевой случай. При разработке каких-то сложных алгоритмов разработчики могут забыть про то, что среди входных данных может быть пустая строка.\n",
    "2. `Очень длинная строка.` Тоже базовый краевой случай. Если бы писали на Си, то размер входной строки был бы ограничен размером типа данных переменных, в которых хранятся индексы. Иначе возможно переполнение регистра при записи слишком большого числа, из-за чего отсчёт бы начался заново и функция бы работала некорректно. Проще говоря, если бы индекс был типа unsigned char, то при попытке проиндексировать 256-й элемент строки, проиндексировался бы 0-й элемент. В питоне такой проблемы нет, то всё же проверить стоит.\n",
    "3. `Строка с однимволом.` На таких тестах очень часто падают функции, потому что разработчики при написании алгоритма отталкиваются от каких-то более распространённых юзер-кейсов и могут забить на нулевую или минимальную строку.\n",
    "4. `Строка с одинаковыми символами.` Такеже граничный кейс, важно, чтобы алгоритм корректно обрабатывал строки с отсутствием уникальных символов.\n",
    "5. `Строка с уникальными символами + различные символы.` Помогает убедиться, что функция работает корректно с разнообразными символами и с уникальными символами.\n",
    "6. `Неправильный тип входных данных`. Всё понятно из названия"
   ]
  },
  {
   "cell_type": "code",
   "execution_count": 5,
   "metadata": {},
   "outputs": [],
   "source": [
    "extended_alphabet = (\n",
    "        ''.join(chr(i) for i in range(65, 91)) +  # A-Z\n",
    "        ''.join(chr(i) for i in range(97, 123)) +  # a-z\n",
    "        ''.join(chr(i) for i in range(1040, 1072)) +  # А-Я \n",
    "        ''.join(chr(i) for i in range(1072, 1104)) +  # а-я\n",
    "        '0123456789' +  # цифры\n",
    "        \"!@#$%^& *()\\/\"  # спец символы\n",
    "    )"
   ]
  },
  {
   "cell_type": "code",
   "execution_count": 6,
   "metadata": {},
   "outputs": [],
   "source": [
    "@timing\n",
    "def test_length_of_longest_substring():\n",
    "    assert length_of_longest_substring(\"\") == 0, \"Failed on empty string\"\n",
    "    assert length_of_longest_substring(\"abc\" * (10**7)  ) == 3, \"Failed on very long string test\"\n",
    "    assert length_of_longest_substring(\"a\") == 1, \"Failed on single character\"\n",
    "    assert length_of_longest_substring(\"aaaaaa\") == 1, \"Failed on string with all same characters\"\n",
    "    assert length_of_longest_substring(extended_alphabet) == len(extended_alphabet), \"Failed on extended alphabet test\"  \n",
    "\n",
    "    # тесты на неправильные типы данных\n",
    "    with pytest.raises(TypeError) as excinfo:\n",
    "        length_of_longest_substring(123)\n",
    "    assert str(excinfo.value) == \"Input must be a string.\", \"Failed on type check for integer input\"\n",
    "    \n",
    "    with pytest.raises(TypeError) as excinfo:\n",
    "        length_of_longest_substring([])\n",
    "    assert str(excinfo.value) == \"Input must be a string.\", \"Failed on type check for list input\"\n",
    "    \n",
    "    with pytest.raises(TypeError) as excinfo:\n",
    "        length_of_longest_substring(None)\n",
    "    assert str(excinfo.value) == \"Input must be a string.\", \"Failed on type check for None input\"  \n",
    "    print(\"All tests passed.\")"
   ]
  },
  {
   "cell_type": "code",
   "execution_count": 7,
   "metadata": {},
   "outputs": [
    {
     "name": "stdout",
     "output_type": "stream",
     "text": [
      "Function length_of_longest_substring took 0.000000000 seconds\n",
      "Function length_of_longest_substring took 8.354145050 seconds\n",
      "Function length_of_longest_substring took 0.000000000 seconds\n",
      "Function length_of_longest_substring took 0.000000000 seconds\n",
      "Function length_of_longest_substring took 0.000000000 seconds\n",
      "All tests passed.\n",
      "Function test_length_of_longest_substring took 8.368297577 seconds\n"
     ]
    }
   ],
   "source": [
    "test_length_of_longest_substring()"
   ]
  }
 ],
 "metadata": {
  "kernelspec": {
   "display_name": "Python 3",
   "language": "python",
   "name": "python3"
  },
  "language_info": {
   "codemirror_mode": {
    "name": "ipython",
    "version": 3
   },
   "file_extension": ".py",
   "mimetype": "text/x-python",
   "name": "python",
   "nbconvert_exporter": "python",
   "pygments_lexer": "ipython3",
   "version": "3.10.11"
  }
 },
 "nbformat": 4,
 "nbformat_minor": 2
}
