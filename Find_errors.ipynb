{
  "cells": [
    {
      "cell_type": "code",
      "execution_count": null,
      "metadata": {
        "id": "qj_nTH23qYWf"
      },
      "outputs": [],
      "source": [
        "# !pip install torchviz"
      ]
    },
    {
      "cell_type": "code",
      "execution_count": 13,
      "metadata": {
        "id": "cGbI46RX78DE"
      },
      "outputs": [],
      "source": [
        "import torch\n",
        "import torch.nn as nn\n",
        "from torch.utils.data import DataLoader, Dataset\n",
        "import torchvision\n",
        "import numpy as np\n",
        "from sklearn.model_selection import train_test_split\n",
        "import torchvision.transforms as transforms\n",
        "from tqdm import tqdm\n",
        "from torchviz import make_dot\n",
        "import matplotlib.pyplot as plt"
      ]
    },
    {
      "cell_type": "markdown",
      "metadata": {},
      "source": [
        "Этот код предназначен для создания, обучения и оценки простой нейронной сети на наборе данных FashionMNIST.\n",
        "Основная цель - продемонстрировать процесс построения модели, её обучения и последующей оценки.\n",
        "\n",
        "Ключевые этапы\n",
        "- Загрузка и предобработка данных\n",
        "- Определение и инициализация модели\n",
        "- Обучение модели с вычислением функции потерь и обновлением весов\n",
        "- Оценка модели на тестовом наборе данных\n",
        "- Визуализация результатов обучения\n",
        "\n",
        "Частично прокоментировал в коде плюс исправил ошибки"
      ]
    },
    {
      "cell_type": "code",
      "execution_count": 14,
      "metadata": {
        "colab": {
          "base_uri": "https://localhost:8080/"
        },
        "id": "j8ZArIEV8U58",
        "outputId": "b7686adb-5373-43e7-bb41-b950513a4b4b"
      },
      "outputs": [],
      "source": [
        "# В этой ячейке загружается датасет FashionMNIST и применяется преобразование для конвертации изображений в тензоры\n",
        "transform = transforms.ToTensor()\n",
        "train_dataset = torchvision.datasets.FashionMNIST(root='./data', train=True, download=True, transform=transform)\n",
        "test_dataset = torchvision.datasets.FashionMNIST(root = \"./data\", train = False, download=True, transform=transform)"
      ]
    },
    {
      "cell_type": "code",
      "execution_count": 15,
      "metadata": {
        "id": "nabOH-LS79ij"
      },
      "outputs": [],
      "source": [
        "# Создаются загрузчики данных для трейн и тест датасетов\n",
        "# загрузчики нужны для управления пакетами данных во время тренировки и тестирования модели\n",
        "batch_size = 64\n",
        "train_loader = DataLoader(train_dataset, batch_size=batch_size, shuffle=True) # shuffle=True делает данные более стохастическими\n",
        "test_loader = DataLoader(test_dataset, batch_size=batch_size, shuffle=False)"
      ]
    },
    {
      "cell_type": "code",
      "execution_count": 16,
      "metadata": {
        "colab": {
          "base_uri": "https://localhost:8080/"
        },
        "id": "6lNf98Dr-Wpi",
        "outputId": "a2ba0d63-df2f-4f73-e8ff-7b0990d964c3"
      },
      "outputs": [
        {
          "data": {
            "text/plain": [
              "(2, 2, torch.Size([64, 1, 28, 28]), torch.Size([64]))"
            ]
          },
          "execution_count": 16,
          "metadata": {},
          "output_type": "execute_result"
        }
      ],
      "source": [
        "# вытаскиваем один пакет из загрузчиков и смотрим формы данных\n",
        "train_item = next(iter(train_loader))\n",
        "test_item = next(iter(test_loader))\n",
        "len(train_item), len(test_item), train_item[0].shape, train_item[1].shape"
      ]
    },
    {
      "cell_type": "code",
      "execution_count": 17,
      "metadata": {
        "id": "Wv21tbtXmEbW"
      },
      "outputs": [],
      "source": [
        "# Определение нейронной сети с использованием PyTorch\n",
        "class NNModel(nn.Module):\n",
        "    def __init__(self,\n",
        "                 layers_size = [49, 32, 16, 10],\n",
        "                 dropout_prob = 1.0\n",
        "                 ):\n",
        "        super().__init__()\n",
        "        # stride должен быть равен 4, чтобы получить нужный размер выходного изображения \n",
        "        # иначе будет ошибка mat1 and mat2 shapes cannot be multiplied\n",
        "        self.conv = nn.Conv2d(in_channels=1, out_channels=1, kernel_size=4, stride=4) # свёрточный слой для уменьшения размера\n",
        "        \n",
        "        # ModuleList для правильной инициализации слоёв и нормализаций \n",
        "        # чтобы списки были частью структуры сети и учитывались в процессе обучения\n",
        "        self.layers = nn.ModuleList([nn.Linear(layers_size[i], layers_size[i+1]) for i in range(len(layers_size)-1)])\n",
        "        self.norm = nn.ModuleList([nn.BatchNorm1d(layers_size[i+1]) for i in range(len(layers_size)-2)])\n",
        "        \n",
        "        self.relu = nn.ReLU() # используется в качестве функции активации\n",
        "        self.dropout = nn.Dropout(p=dropout_prob) # применяется для регуляризации сети и предотвращения переобучения\n",
        "\n",
        "    def forward(self, batch): # прямое прохождение данных через сеть\n",
        "        bs = batch.shape[0]\n",
        "        batch = self.conv(batch).reshape(bs, -1)\n",
        "\n",
        "        for i, layer in enumerate(self.layers):\n",
        "            if i < len(self.layers) -1:\n",
        "                batch = self.dropout(self.relu(self.norm[i](layer(batch))))\n",
        "            else:\n",
        "                batch = layer(batch)\n",
        "        return batch\n",
        "\n",
        "    def print_net(self): # выводит структуру сети\n",
        "        print(self.conv)\n",
        "        for i, layer in enumerate(self.layers):\n",
        "            if i < len(self.layers) -1:\n",
        "                print(layer)\n",
        "                print(self.norm[i])\n",
        "                print(self.relu)\n",
        "                print(self.dropout)\n",
        "            else:\n",
        "                print(layer)\n",
        "\n",
        "        return"
      ]
    },
    {
      "cell_type": "code",
      "execution_count": 18,
      "metadata": {
        "colab": {
          "base_uri": "https://localhost:8080/"
        },
        "id": "sD36MPJlp7m-",
        "outputId": "f8753f6a-cfcf-49df-b8fd-e1b4d8c9dd05"
      },
      "outputs": [
        {
          "name": "stdout",
          "output_type": "stream",
          "text": [
            "Conv2d(1, 1, kernel_size=(4, 4), stride=(4, 4))\n",
            "Linear(in_features=49, out_features=32, bias=True)\n",
            "BatchNorm1d(32, eps=1e-05, momentum=0.1, affine=True, track_running_stats=True)\n",
            "ReLU()\n",
            "Dropout(p=0.1, inplace=False)\n",
            "Linear(in_features=32, out_features=16, bias=True)\n",
            "BatchNorm1d(16, eps=1e-05, momentum=0.1, affine=True, track_running_stats=True)\n",
            "ReLU()\n",
            "Dropout(p=0.1, inplace=False)\n",
            "Linear(in_features=16, out_features=10, bias=True)\n"
          ]
        }
      ],
      "source": [
        "mlp  = NNModel(dropout_prob = 0.1) # экземпляр класса NNModel\n",
        "# predictions = mlp(train_item[0])\n",
        "# make_dot(predictions, params=dict(mlp.named_parameters()))\n",
        "mlp.print_net() # выводит структуру модели"
      ]
    },
    {
      "cell_type": "code",
      "execution_count": 19,
      "metadata": {
        "colab": {
          "base_uri": "https://localhost:8080/",
          "height": 356
        },
        "id": "VtgLUBij7FGM",
        "outputId": "8b9e80e9-1688-4e53-9fdd-3dee69ec151c"
      },
      "outputs": [
        {
          "name": "stdout",
          "output_type": "stream",
          "text": [
            "train loss value = 0.6851466323838813\n",
            "eval loss value = 0.5290395370714224\n",
            "train loss value = 0.5656199088292335\n",
            "eval loss value = 0.5481788312933248\n",
            "train loss value = 0.5424804662082241\n",
            "eval loss value = 0.47811997734057676\n",
            "train loss value = 0.5291160343965488\n",
            "eval loss value = 0.48553286265036105\n",
            "train loss value = 0.5259576477348678\n",
            "eval loss value = 0.4690584561247734\n",
            "train loss value = 0.5180809218396765\n",
            "eval loss value = 0.46740800569391555\n",
            "train loss value = 0.5118729611958014\n",
            "eval loss value = 0.45100860288188716\n",
            "train loss value = 0.5070594935370153\n",
            "eval loss value = 0.461846396801578\n",
            "train loss value = 0.5052327287158986\n",
            "eval loss value = 0.4493279912669188\n",
            "train loss value = 0.49886117200416796\n",
            "eval loss value = 0.43624918874661633\n"
          ]
        },
        {
          "data": {
            "image/png": "[encoded data removed]",
            "text/plain": [
              "<Figure size 640x480 with 1 Axes>"
            ]
          },
          "metadata": {},
          "output_type": "display_data"
        }
      ],
      "source": [
        "# Обучение и оценка модели\n",
        "num_epochs = 10 # уменьшил итерации чтоб не ждать два года\n",
        "DEBUG = True \n",
        "ce_loss = nn.CrossEntropyLoss() # функция потерь \n",
        "optimizer = torch.optim.Adam(mlp.parameters(), lr =  0.01) # оптимизатор \n",
        "\n",
        "logger = {'train':[],\n",
        "          'eval' :[]\n",
        "          } # словрь для хранения логов \n",
        "for epoch in range(num_epochs):\n",
        "\n",
        "    epoch_stat = []\n",
        "\n",
        "    # train part\n",
        "\n",
        "    mlp.train() # режим обучения\n",
        "    for batch in train_loader: # [train_item] -> train_loader, иначе обучение только на одном батче \n",
        "\n",
        "        images, labels = batch\n",
        "        images, labels = images.float(), labels.long()\n",
        "        predictions = mlp(images) # прогоняем значения через модель\n",
        "        loss = ce_loss(predictions, labels) # вычисляем потери \n",
        "\n",
        "        # очистка градиентов перед обратным распространением, чтобы параметры правильно обновлялись\n",
        "        optimizer.zero_grad() \n",
        "        loss.backward() # обратное распространение обновление параметров модели\n",
        "        optimizer.step()\n",
        "\n",
        "        epoch_stat.append(loss.item())\n",
        "\n",
        "    if DEBUG: print(f\"train loss value = {np.mean(epoch_stat)}\")\n",
        "    logger['train'].append(np.mean(epoch_stat))\n",
        "\n",
        "\n",
        "    # eval part\n",
        "    mlp.eval()  # установить модель в режим оценки\n",
        "    with torch.no_grad():\n",
        "\n",
        "        eval_stat = []\n",
        "        for batch in test_loader: # [train_item] -> test_loader, иначе тест только на одном батче\n",
        "\n",
        "            images, labels = batch\n",
        "            images, labels = images.float(), labels.long()\n",
        "\n",
        "            predictions = mlp(images)\n",
        "            loss = ce_loss(predictions, labels) # на тестовом датасете вычисляем потери \n",
        "            # без обновления параметров\n",
        "\n",
        "            # код не должен выполнять оптимизацию и обновление весов сети при оценке\n",
        "            # это делается только при обучении\n",
        "            # loss.backward() \n",
        "            # optimizer.step()\n",
        "\n",
        "            eval_stat.append(loss.item())\n",
        "    if DEBUG: print(f\"eval loss value = {np.mean(eval_stat)}\")\n",
        "    logger['eval'].append(np.mean(eval_stat))\n",
        "\n",
        "plt.plot(logger['train'], label='Train loss' )\n",
        "plt.plot(logger['eval'], label='Val loss')\n",
        "plt.legend()\n",
        "plt.show()"
      ]
    },
    {
      "cell_type": "code",
      "execution_count": null,
      "metadata": {},
      "outputs": [],
      "source": []
    }
  ],
  "metadata": {
    "colab": {
      "provenance": []
    },
    "kernelspec": {
      "display_name": "Python 3",
      "name": "python3"
    },
    "language_info": {
      "codemirror_mode": {
        "name": "ipython",
        "version": 3
      },
      "file_extension": ".py",
      "mimetype": "text/x-python",
      "name": "python",
      "nbconvert_exporter": "python",
      "pygments_lexer": "ipython3",
      "version": "3.10.11"
    }
  },
  "nbformat": 4,
  "nbformat_minor": 0
}
