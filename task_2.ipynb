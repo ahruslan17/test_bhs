{
 "cells": [
  {
   "cell_type": "markdown",
   "metadata": {},
   "source": [
    "## Задание 2."
   ]
  },
  {
   "cell_type": "markdown",
   "metadata": {},
   "source": [
    "Вы поднимаетесь по лестнице. Чтобы добраться до самого верха, вам необходимо пройти n ступеней. Каждый раз, вы можете подняться либо на 1 ступеньку, либо на 2. Как много различных способов подняться на самый верх у вас есть?\n",
    "\n",
    "Пример:\n",
    "Пусть всего n = 3 ступеней, тогда:\n",
    "Изначально вы можете подняться на 1 либо две ступени:\n",
    "Если поднялись на одну, то дальше вы можете подняться на 2, либо два раза на одну ступень.\n",
    "Если изначально поднялись на 2, то дальше вы можете подняться только на 1 ступень.\n",
    "Итого, у вас 3 варианта: 1 шаг + 1 шаг + 1 шаг, 1 шаг + 2 шаша, 2 шага + 1 шаг.\n"
   ]
  },
  {
   "cell_type": "markdown",
   "metadata": {},
   "source": [
    "## Решение"
   ]
  },
  {
   "cell_type": "markdown",
   "metadata": {},
   "source": [
    "В общем случае, на каждую n-ую ступеньку можно подняться, сделав либо 1 шаг с `n-1` ступеньки, либо 2 шага с `n-2` ступеньки.\n",
    "\n",
    "Подняться на n-1 ступеньку можно аналогичным образом: либо сделать 1 шаг с `n-2` ступеньки, либо сделать 2 шага с `n-3` ступеньки.\n",
    "\n",
    "Получается, что в общем случае, если `F(n)` - количество способов подняться на n ступеньку, то `F(n)` задаётся соотношением:\n",
    "\n",
    "`F(n) = F(n-2) + F(n-1)`. \n",
    "\n",
    "Номер ступеньки строго положительный `(n = 1...N)`, поэтому есть два краевых случая:\n",
    "- `F(0) = 1` (чтобы остаться на земле есть только один способ - не подниматься)\n",
    "- `F(1) = 1` (подняться на первую ступеньку можно только шагнув на неё 1 шаг с демли) \n",
    "\n",
    "Решение задачи сводится к нахождению n-го числа Фибоначчи"
   ]
  },
  {
   "cell_type": "markdown",
   "metadata": {},
   "source": [
    "### Комментарий"
   ]
  },
  {
   "cell_type": "markdown",
   "metadata": {},
   "source": [
    "Помимо `итеративного алгоритма` есть аналитический (называется `Формула Бине`), но он работает корректно только до определённых размеров N (N<70).\n",
    "Однако с его помощью можно чуть оптимизировать итоговое решение, потому что сложность по времени формулы Бине - `O(1)`"
   ]
  },
  {
   "cell_type": "markdown",
   "metadata": {},
   "source": [
    "Моя итоговая функция будет содержать в себе два метода: для малых N будет считаться по `формуле Бине`, для бОльших N - через `итеративный алгоритма`.\n",
    "Краевые случаи F(0) = 1 и F(1) = 1 в коде не прописаны, т.к. Формула Бине их учитывает.\n",
    "Да, при разовом запуске Бине не сильно по времени выиграет, потому что итеративный и так будет быстро считаться, но если нам нужно сделать миллиард запусков, то выигрыш во времени будет приличный\n",
    "\n",
    "Тестировал на N=68, 1 миллиадр итераций:\n",
    "- Итеративный: 2735.65 секунд\n",
    "- Бине: 1108.57 секунд\n",
    "\n",
    "Разница на лицо"
   ]
  },
  {
   "cell_type": "code",
   "execution_count": 1,
   "metadata": {},
   "outputs": [],
   "source": [
    "import time\n",
    "from functools import wraps\n",
    "import math\n",
    "\n",
    "# если нужно запринтовать длинную строку. Иначе будет ошибка ValueError: Exceeds the limit (4300) for integer string conversion;\n",
    "# import sys\n",
    "# sys.set_int_max_str_digits(10**6)  "
   ]
  },
  {
   "cell_type": "code",
   "execution_count": 2,
   "metadata": {},
   "outputs": [],
   "source": [
    "def timing(func):\n",
    "    '''Вычисляет время работы функции''' \n",
    "    @wraps(func)\n",
    "    def wrapper(*args, **kwargs):\n",
    "        start_time = time.time()  \n",
    "        result = func(*args, **kwargs)  \n",
    "        end_time = time.time()\n",
    "        elapsed_time = end_time - start_time  \n",
    "        print(f\"Function {func.__name__} took {elapsed_time:.9f} seconds\")\n",
    "        return result\n",
    "    return wrapper"
   ]
  },
  {
   "cell_type": "code",
   "execution_count": 3,
   "metadata": {},
   "outputs": [],
   "source": [
    "def get_fibonacci_binet(N: int) -> int:\n",
    "    N += 1 # т.к. числа фиб. начинаются с 1, а ступеньки у нас с 0 (1-е число это 0-я ступенька)\n",
    "    phi = (1 + math.sqrt(5)) / 2 \n",
    "    psi = (1 - math.sqrt(5)) / 2\n",
    "    return round((phi ** N - psi ** N) / math.sqrt(5))\n",
    "\n",
    "def get_fibonacci_iter(N: int) -> int:\n",
    "    n_minus_2, n_minus_1 = 1, 1 # F(0), F(1)\n",
    "    for _ in range(2, N + 1):\n",
    "        n_minus_1, n_minus_2 = n_minus_2 + n_minus_1, n_minus_1 # F(n) = F(n-1) + F(n-2)\n",
    "    return n_minus_1\n",
    "\n",
    "@timing\n",
    "def get_number_options_to_climb(N: int) -> int:\n",
    "    '''N - количество ступеней'''\n",
    "    if not isinstance(N, int) or N < 0:\n",
    "        raise ValueError('N should be a natural number or 0.')\n",
    "    if N < 69:\n",
    "        return get_fibonacci_binet(N)\n",
    "    else:\n",
    "        return get_fibonacci_iter(N)"
   ]
  },
  {
   "cell_type": "code",
   "execution_count": 4,
   "metadata": {},
   "outputs": [
    {
     "name": "stdout",
     "output_type": "stream",
     "text": [
      "Function get_number_options_to_climb took 0.000992060 seconds\n",
      "89\n"
     ]
    }
   ],
   "source": [
    "stairs_num = 10\n",
    "print(get_number_options_to_climb(stairs_num))"
   ]
  },
  {
   "cell_type": "markdown",
   "metadata": {},
   "source": [
    "## Сложность"
   ]
  },
  {
   "cell_type": "markdown",
   "metadata": {},
   "source": [
    "Сложность по времени в худшем случае (N >= 69) - `O(N)`, в лучшем случае (N < 69) - `O(1)`.\n",
    "\n",
    "Сложность по памяти `O(1)`"
   ]
  },
  {
   "cell_type": "markdown",
   "metadata": {},
   "source": [
    "## Тесты"
   ]
  },
  {
   "cell_type": "markdown",
   "metadata": {},
   "source": [
    "1. Нулевая ступенька. Краевой случай, который должен быть обработан правильно\n",
    "2. Первая ступенька. Также краевой случай\n",
    "3. 68 и 69 ступеньки - проверка, на то что оба алгоритма в моей реализации корректно считают корректно считает \n",
    "4. Проверка на больших данных\n",
    "5. Проверка на типы данных\n",
    "\n",
    "Для сравнения использую функцию `fibonacci` из библиотеки `sympy`. Входное значение для `fibonacci()` нужно указывать на 1 больше, так как числа Фиб. начинаются с 1, а ступеньки у нас с 0 (1-е число это 0-я ступенька)\n",
    "Например, 3-е число Фибоначчи равно 2, а для третьей ступеньки ответ 3 (это 4-е число Фибоначчи)"
   ]
  },
  {
   "cell_type": "code",
   "execution_count": 5,
   "metadata": {},
   "outputs": [],
   "source": [
    "import pytest\n",
    "from sympy import fibonacci # для референсного значения\n",
    "\n",
    "@timing\n",
    "def test_get_number_options_to_climb():\n",
    "    assert get_number_options_to_climb(0) == 1, \"Failed on 0 steps\"\n",
    "    assert get_number_options_to_climb(1) == 1, \"Failed on 1 step\"\n",
    "    assert get_number_options_to_climb(68) == fibonacci(69), \"Failed on 68 step\"\n",
    "    assert get_number_options_to_climb(69) == fibonacci(70), \"Failed on 69 step\"\n",
    "    assert get_number_options_to_climb(100500) == fibonacci(100501), \"Failed on 100500 step\"\n",
    "\n",
    "\n",
    "    # неправильный тип данных\n",
    "    with pytest.raises(ValueError) as excinfo:\n",
    "        get_number_options_to_climb(-1)\n",
    "    assert str(excinfo.value) == \"N should be a natural number or 0.\", \"Failed on negative input\"\n",
    "    \n",
    "    with pytest.raises(ValueError) as excinfo:\n",
    "        get_number_options_to_climb(3.5) \n",
    "    assert str(excinfo.value) == \"N should be a natural number or 0.\", \"Failed on float input\"\n",
    "    \n",
    "    with pytest.raises(ValueError) as excinfo:\n",
    "        get_number_options_to_climb(\"a\")\n",
    "    assert str(excinfo.value) == \"N should be a natural number or 0.\", \"Failed on string input\"\n",
    "\n",
    "    with pytest.raises(ValueError) as excinfo:\n",
    "        get_number_options_to_climb(None)\n",
    "    assert str(excinfo.value) == \"N should be a natural number or 0.\", \"Failed on None input\"\n",
    "\n",
    "    with pytest.raises(ValueError) as excinfo:\n",
    "        get_number_options_to_climb([14])\n",
    "    assert str(excinfo.value) == \"N should be a natural number or 0.\", \"Failed on list input\"\n",
    "\n",
    "    print(\"All tests passed.\")"
   ]
  },
  {
   "cell_type": "code",
   "execution_count": 6,
   "metadata": {},
   "outputs": [
    {
     "name": "stdout",
     "output_type": "stream",
     "text": [
      "Function get_number_options_to_climb took 0.000000000 seconds\n",
      "Function get_number_options_to_climb took 0.000000000 seconds\n",
      "Function get_number_options_to_climb took 0.000000000 seconds\n",
      "Function get_number_options_to_climb took 0.000000000 seconds\n",
      "Function get_number_options_to_climb took 0.094082355 seconds\n",
      "All tests passed.\n",
      "Function test_get_number_options_to_climb took 0.099005699 seconds\n"
     ]
    }
   ],
   "source": [
    "test_get_number_options_to_climb()"
   ]
  }
 ],
 "metadata": {
  "kernelspec": {
   "display_name": "Python 3",
   "language": "python",
   "name": "python3"
  },
  "language_info": {
   "codemirror_mode": {
    "name": "ipython",
    "version": 3
   },
   "file_extension": ".py",
   "mimetype": "text/x-python",
   "name": "python",
   "nbconvert_exporter": "python",
   "pygments_lexer": "ipython3",
   "version": "3.10.11"
  }
 },
 "nbformat": 4,
 "nbformat_minor": 2
}
